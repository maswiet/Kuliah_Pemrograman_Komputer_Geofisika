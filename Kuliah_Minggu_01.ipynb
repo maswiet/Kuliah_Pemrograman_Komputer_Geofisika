{
 "cells": [
  {
   "cell_type": "markdown",
   "metadata": {},
   "source": [
    "# Sistem Operasi Unix\n",
    "\n",
    "## Apakah Unix\n",
    "Unix adalah nama sebuah sistem operasi komputer: yang mengatur interaksi antara komponen-elektronika di dalam komputer (prosesor, memory, disket/hardisk, kartu video (*video card*)) untuk bekerja berdasarkan perintah yang diberikan oleh pemakai (*user*), yang diberikan melalui keyboard, mouse atau touchpad. Kalau di Indonesia, sebagian besar pengguna komputer menggunakan sistem operasi Windows (dulu biasanya versi *bajakan*, tapi sekarang tidak ^_^), sehingga mungkin Sistem Operasi Unix menjadi cukup asing bagi kita. Salah satu SO bertipe Unix yang paling populer di Indonesia adalah Linux. Saat ini, selain Windows, pengguna Mac OS sebagai sistem Oprasi komputer juga mulai banyak di Indonesia, mengikuti trend anak muda masa kini, mengikuti trend Iphone dan IPad..\n",
    "![ilustrasi](http://skillprogramming.com/images/pictuers/evolution_of_gnulinux_vs_windows.jpg)\n",
    "Yang paling membedakan antara Linux (Unix) dan Windows adalah Linux gratis. Selain itu, sejak dibuat tahun 1960-an Linux telah didesain untuk dipakai oleh banyak pengguna, (multi-users), sehingga setiap pengguna dapat melakukan pekerjaannyas secara spesifik. Linux dibuat untuk menfasilitasi pengguna untuk mengembangkan software sehingga menjadi SO andalan para ilmuwan di dunia."
   ]
  },
  {
   "cell_type": "code",
   "execution_count": null,
   "metadata": {},
   "outputs": [],
   "source": []
  }
 ],
 "metadata": {
  "kernelspec": {
   "display_name": "Python 2",
   "language": "python",
   "name": "python2"
  },
  "language_info": {
   "codemirror_mode": {
    "name": "ipython",
    "version": 2
   },
   "file_extension": ".py",
   "mimetype": "text/x-python",
   "name": "python",
   "nbconvert_exporter": "python",
   "pygments_lexer": "ipython2",
   "version": "2.7.13"
  }
 },
 "nbformat": 4,
 "nbformat_minor": 2
}
